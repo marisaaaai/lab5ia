{
 "cells": [
  {
   "cell_type": "markdown",
   "id": "c3ec9f68",
   "metadata": {},
   "source": [
    "## Laboratorio 5\n",
    "Primero lo que tenemos que hacer es renderizar el environment en gym que queremos. En este caso vamos a resolver el problema de un taxi autonomo.\n",
    "\n",
    "En este problema tenemos que hay cuatroo localidades y nuestro tabajo es el de recoger a una persona y  tirarla en otro lugar. Se tiene un sistema de recompensas en el cual se le da 20 pts por un dropoff exitoso y se disminute un punto por cada paso que da. Asi tambien como hay una disminucion por pasos ilegales."
   ]
  },
  {
   "cell_type": "code",
   "execution_count": 1,
   "id": "506970c4",
   "metadata": {},
   "outputs": [
    {
     "name": "stdout",
     "output_type": "stream",
     "text": [
      "+---------+\n",
      "|R:\u001b[43m \u001b[0m| : :\u001b[34;1mG\u001b[0m|\n",
      "| : | : : |\n",
      "| : : : : |\n",
      "| | : | : |\n",
      "|Y| : |\u001b[35mB\u001b[0m: |\n",
      "+---------+\n",
      "\n"
     ]
    }
   ],
   "source": [
    "import gym\n",
    "\n",
    "env = gym.make(\"Taxi-v3\").env\n",
    "env.render()"
   ]
  },
  {
   "cell_type": "markdown",
   "id": "f5cc9089",
   "metadata": {},
   "source": [
    "Tenemos que existen 6 diferentes acciones que se pueden hacer una vez tenemos nuestro ambiente. 0 signifca que se mueve al sur, 1 al norte, 2 al este, 3 al oeste, 4 es de recoger y 5 es dejar. \n",
    "\n",
    "En este tipo de casos vamos a llamar a un estado en el @estado@ en el que nuestro taxi esta en. En el problema contamos con 500 posibles estados. \n",
    "\n",
    "Si efectuamos una accion como:"
   ]
  },
  {
   "cell_type": "code",
   "execution_count": 2,
   "id": "f94c3980",
   "metadata": {},
   "outputs": [
    {
     "data": {
      "text/plain": [
       "(127, -1, False, {'prob': 1.0})"
      ]
     },
     "execution_count": 2,
     "metadata": {},
     "output_type": "execute_result"
    }
   ],
   "source": [
    "env.step(0)"
   ]
  },
  {
   "cell_type": "markdown",
   "id": "63d05e6e",
   "metadata": {},
   "source": [
    "Podemos ver que nos devuelve tuplas, en las cuales podemos encontrar el estado de nuestro taxi, la recompensa acumulada, si ya completamos el proble, e informacion que no es relevante para el problema.\n",
    "\n",
    "Con Q-learning lo que buscamos es poder maximizar nuestra recompensa al ir a dejar a la persona que el taxi fue a recoger. "
   ]
  },
  {
   "cell_type": "markdown",
   "id": "e232f030",
   "metadata": {},
   "source": [
    "Asi como tambien nosotros podemos inicializar nuestro envionment en un estado especifico. "
   ]
  },
  {
   "cell_type": "code",
   "execution_count": 3,
   "id": "88e24ce7",
   "metadata": {},
   "outputs": [
    {
     "name": "stdout",
     "output_type": "stream",
     "text": [
      "State: 328\n",
      "+---------+\n",
      "|\u001b[35mR\u001b[0m: | : :G|\n",
      "| : | : : |\n",
      "| : : : : |\n",
      "| |\u001b[43m \u001b[0m: | : |\n",
      "|\u001b[34;1mY\u001b[0m| : |B: |\n",
      "+---------+\n",
      "  (South)\n"
     ]
    }
   ],
   "source": [
    "state = env.encode(3, 1, 2, 0) # (taxi row, taxi column, passenger index, destination index)\n",
    "print(\"State:\", state)\n",
    "\n",
    "env.s = state\n",
    "env.render()"
   ]
  },
  {
   "cell_type": "code",
   "execution_count": 6,
   "id": "cc5d91a5",
   "metadata": {},
   "outputs": [
    {
     "name": "stdout",
     "output_type": "stream",
     "text": [
      "Episode: 100000\n",
      "Training finished.\n",
      "\n",
      "Wall time: 59.5 s\n"
     ]
    }
   ],
   "source": [
    "%%time\n",
    "##Este es un codigo para poder entrenar al agente que nos estara resolvienedo el ambiente de un taxi autonomo\n",
    "\n",
    "#entrenamiento obtenido de \n",
    "#https://www.learndatasci.com/tutorials/reinforcement-q-learning-scratch-python-openai-gym/\n",
    "import random\n",
    "from IPython.display import clear_output\n",
    "\n",
    "#Se definen los hiperparametros con los cuales q learning podra asignarle las recompensas a la tabla. \n",
    "alpha = 0.1\n",
    "gamma = 0.6\n",
    "epsilon = 0.1\n",
    "\n",
    "# Para poder gráficar\n",
    "all_epochs = []\n",
    "all_penalties = []\n",
    "\n",
    "for i in range(1, 100001):\n",
    "    state = env.reset()\n",
    "\n",
    "    epochs, penalties, reward, = 0, 0, 0\n",
    "    done = False\n",
    "    \n",
    "    while not done:\n",
    "        if random.uniform(0, 1) < epsilon:\n",
    "            action = env.action_space.sample() # Explore action space\n",
    "        else:\n",
    "            action = np.argmax(q_table[state]) # Exploit learned values\n",
    "\n",
    "        next_state, reward, done, info = env.step(action) \n",
    "        \n",
    "        old_value = q_table[state, action]\n",
    "        next_max = np.max(q_table[next_state])\n",
    "        \n",
    "        new_value = (1 - alpha) * old_value + alpha * (reward + gamma * next_max)\n",
    "        q_table[state, action] = new_value\n",
    "\n",
    "        if reward == -10:\n",
    "            penalties += 1\n",
    "\n",
    "        state = next_state\n",
    "        epochs += 1\n",
    "        \n",
    "    if i % 100 == 0:\n",
    "        clear_output(wait=True)\n",
    "        print(f\"Episode: {i}\")\n",
    "\n",
    "print(\"Training finished.\\n\")"
   ]
  },
  {
   "cell_type": "code",
   "execution_count": 7,
   "id": "facd7937",
   "metadata": {},
   "outputs": [
    {
     "data": {
      "text/plain": [
       "array([ -2.39727063,  -2.27325184,  -2.41385287,  -2.34954604,\n",
       "       -10.5907626 , -10.86934372])"
      ]
     },
     "execution_count": 7,
     "metadata": {},
     "output_type": "execute_result"
    }
   ],
   "source": [
    "q_table[328]"
   ]
  },
  {
   "cell_type": "code",
   "execution_count": 8,
   "id": "e6de2a5d",
   "metadata": {},
   "outputs": [
    {
     "name": "stdout",
     "output_type": "stream",
     "text": [
      "Results after 100 episodes:\n",
      "Average timesteps per episode: 13.24\n",
      "Average penalties per episode: 0.0\n"
     ]
    }
   ],
   "source": [
    "\"\"\"Evaluate agent's performance after Q-learning\"\"\"\n",
    "\n",
    "total_epochs, total_penalties = 0, 0\n",
    "episodes = 100\n",
    "\n",
    "for _ in range(episodes):\n",
    "    state = env.reset()\n",
    "    epochs, penalties, reward = 0, 0, 0\n",
    "    \n",
    "    done = False\n",
    "    \n",
    "    while not done:\n",
    "        action = np.argmax(q_table[state])\n",
    "        state, reward, done, info = env.step(action)\n",
    "\n",
    "        if reward == -10:\n",
    "            penalties += 1\n",
    "\n",
    "        epochs += 1\n",
    "\n",
    "    total_penalties += penalties\n",
    "    total_epochs += epochs\n",
    "\n",
    "print(f\"Results after {episodes} episodes:\")\n",
    "print(f\"Average timesteps per episode: {total_epochs / episodes}\")\n",
    "print(f\"Average penalties per episode: {total_penalties / episodes}\")"
   ]
  }
 ],
 "metadata": {
  "kernelspec": {
   "display_name": "Python 3 (ipykernel)",
   "language": "python",
   "name": "python3"
  },
  "language_info": {
   "codemirror_mode": {
    "name": "ipython",
    "version": 3
   },
   "file_extension": ".py",
   "mimetype": "text/x-python",
   "name": "python",
   "nbconvert_exporter": "python",
   "pygments_lexer": "ipython3",
   "version": "3.9.7"
  }
 },
 "nbformat": 4,
 "nbformat_minor": 5
}
